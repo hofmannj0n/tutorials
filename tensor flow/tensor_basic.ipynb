{
  "nbformat": 4,
  "nbformat_minor": 0,
  "metadata": {
    "colab": {
      "provenance": []
    },
    "kernelspec": {
      "name": "python3",
      "display_name": "Python 3"
    },
    "language_info": {
      "name": "python"
    }
  },
  "cells": [
    {
      "cell_type": "markdown",
      "source": [
        "#Tensor Basics"
      ],
      "metadata": {
        "id": "QiYjP4vB2KP1"
      }
    },
    {
      "cell_type": "code",
      "execution_count": 1,
      "metadata": {
        "id": "XGLH05fqNm7M"
      },
      "outputs": [],
      "source": [
        "import tensorflow as tf"
      ]
    },
    {
      "cell_type": "code",
      "source": [
        "tensor_zero_d = tf.constant(4)\n",
        "print(tensor_zero_d)"
      ],
      "metadata": {
        "colab": {
          "base_uri": "https://localhost:8080/"
        },
        "id": "Bxb5nhXZNpK6",
        "outputId": "e54545b4-8a9e-4c11-d72c-83162ccb5be1"
      },
      "execution_count": 6,
      "outputs": [
        {
          "output_type": "stream",
          "name": "stdout",
          "text": [
            "tf.Tensor(4, shape=(), dtype=int32)\n"
          ]
        }
      ]
    },
    {
      "cell_type": "code",
      "source": [
        "tensor_one_d = tf.constant([2, 0, -3, 8, 90])\n",
        "print(tensor_one_d)"
      ],
      "metadata": {
        "colab": {
          "base_uri": "https://localhost:8080/"
        },
        "id": "y4RyAwPYNuzt",
        "outputId": "cee2410a-4b7c-4839-d4e0-ebbd2dcbb5ed"
      },
      "execution_count": 8,
      "outputs": [
        {
          "output_type": "stream",
          "name": "stdout",
          "text": [
            "tf.Tensor([ 2  0 -3  8 90], shape=(5,), dtype=int32)\n"
          ]
        }
      ]
    },
    {
      "cell_type": "code",
      "source": [
        "tensor_two_d = tf.constant([\n",
        "    [1,2,0],\n",
        "    [3,5,-1],\n",
        "    [1,5,6],\n",
        "    [2,3,8]\n",
        "])\n",
        "\n",
        "print(tensor_two_d)"
      ],
      "metadata": {
        "colab": {
          "base_uri": "https://localhost:8080/"
        },
        "id": "1pZt2MOaN7wi",
        "outputId": "b56dc180-cb76-4391-9ce3-992910cf3915"
      },
      "execution_count": 9,
      "outputs": [
        {
          "output_type": "stream",
          "name": "stdout",
          "text": [
            "tf.Tensor(\n",
            "[[ 1  2  0]\n",
            " [ 3  5 -1]\n",
            " [ 1  5  6]\n",
            " [ 2  3  8]], shape=(4, 3), dtype=int32)\n"
          ]
        }
      ]
    },
    {
      "cell_type": "code",
      "source": [
        "tensor_three_d = tf.constant([\n",
        "    [[1,2,0],\n",
        "     [3,5,-1]],\n",
        "\n",
        "    [[10,2,0],\n",
        "     [1,0,2]],\n",
        "\n",
        "    [[5,8,0],\n",
        "    [2,7,0]],\n",
        "\n",
        "    [[2,1,9],\n",
        "     [4,-3,32]],\n",
        "\n",
        "])"
      ],
      "metadata": {
        "id": "1pO6OZGrOZkI"
      },
      "execution_count": 10,
      "outputs": []
    },
    {
      "cell_type": "code",
      "source": [
        "# can do a 4-D array by stacking 3-D arrays"
      ],
      "metadata": {
        "id": "ufSG28BhY5gI"
      },
      "execution_count": 11,
      "outputs": []
    },
    {
      "cell_type": "code",
      "source": [
        "# messing with the datatypes\n",
        "\n",
        "tensor_one_d = tf.constant([2, 0, -3, 8, 90], dtype=tf.float32)\n",
        "\n",
        "casted_tensor_one_d = tf.cast(tensor_one_d, dtype=tf.int16)\n",
        "casted_tensor_one_d_bool = tf.cast(tensor_one_d, dtype=tf.bool)\n",
        "\n",
        "tensor_bool = tf.constant([True, True, False])\n",
        "\n",
        "tensor_string = tf.constant(['Hello world', 'hi'])\n",
        "\n",
        "print(tensor_one_d)\n",
        "print(casted_tensor_one_d)\n",
        "print(casted_tensor_one_d_bool)\n",
        "print(tensor_bool)\n",
        "print(tensor_string)"
      ],
      "metadata": {
        "colab": {
          "base_uri": "https://localhost:8080/"
        },
        "id": "GFXTfM_nmOdM",
        "outputId": "db0fd77a-f0dc-4368-b342-6810d1ebf331"
      },
      "execution_count": 22,
      "outputs": [
        {
          "output_type": "stream",
          "name": "stdout",
          "text": [
            "tf.Tensor([ 2.  0. -3.  8. 90.], shape=(5,), dtype=float32)\n",
            "tf.Tensor([ 2  0 -3  8 90], shape=(5,), dtype=int16)\n",
            "tf.Tensor([ True False  True  True  True], shape=(5,), dtype=bool)\n",
            "tf.Tensor([ True  True False], shape=(3,), dtype=bool)\n",
            "tf.Tensor([b'Hello world' b'hi'], shape=(2,), dtype=string)\n"
          ]
        }
      ]
    },
    {
      "cell_type": "code",
      "source": [
        "# converting numpy arrays into tensors\n",
        "\n",
        "import numpy as np"
      ],
      "metadata": {
        "id": "EZhJV8UgmSWm"
      },
      "execution_count": 23,
      "outputs": []
    },
    {
      "cell_type": "code",
      "source": [
        "np_array = np.array([1,2,4])"
      ],
      "metadata": {
        "id": "Wet_faZqn-kk"
      },
      "execution_count": 24,
      "outputs": []
    },
    {
      "cell_type": "code",
      "source": [
        "converted_tensor = tf.convert_to_tensor(np_array)\n",
        "print(converted_tensor)"
      ],
      "metadata": {
        "colab": {
          "base_uri": "https://localhost:8080/"
        },
        "id": "lR4AkmlHoFi2",
        "outputId": "e61e8546-2268-443d-f76d-52ee587ff7db"
      },
      "execution_count": 25,
      "outputs": [
        {
          "output_type": "stream",
          "name": "stdout",
          "text": [
            "tf.Tensor([1 2 4], shape=(3,), dtype=int64)\n"
          ]
        }
      ]
    },
    {
      "cell_type": "code",
      "source": [
        "eye_tensor = tf.eye(\n",
        "    num_rows = 5,\n",
        "    num_columns = None,\n",
        "    batch_shape = [2,] ,\n",
        "    dtype = tf.dtypes.float16, #can be set to anything\n",
        "    name = None,\n",
        ")\n",
        "\n",
        "print(eye_tensor)\n",
        "print(3 * eye_tensor)"
      ],
      "metadata": {
        "colab": {
          "base_uri": "https://localhost:8080/"
        },
        "id": "H_wI545roMDG",
        "outputId": "0c5974a9-e21a-40fb-95c0-2530c9638c1d"
      },
      "execution_count": 33,
      "outputs": [
        {
          "output_type": "stream",
          "name": "stdout",
          "text": [
            "tf.Tensor(\n",
            "[[[1. 0. 0. 0. 0.]\n",
            "  [0. 1. 0. 0. 0.]\n",
            "  [0. 0. 1. 0. 0.]\n",
            "  [0. 0. 0. 1. 0.]\n",
            "  [0. 0. 0. 0. 1.]]\n",
            "\n",
            " [[1. 0. 0. 0. 0.]\n",
            "  [0. 1. 0. 0. 0.]\n",
            "  [0. 0. 1. 0. 0.]\n",
            "  [0. 0. 0. 1. 0.]\n",
            "  [0. 0. 0. 0. 1.]]], shape=(2, 5, 5), dtype=float16)\n",
            "tf.Tensor(\n",
            "[[[3. 0. 0. 0. 0.]\n",
            "  [0. 3. 0. 0. 0.]\n",
            "  [0. 0. 3. 0. 0.]\n",
            "  [0. 0. 0. 3. 0.]\n",
            "  [0. 0. 0. 0. 3.]]\n",
            "\n",
            " [[3. 0. 0. 0. 0.]\n",
            "  [0. 3. 0. 0. 0.]\n",
            "  [0. 0. 3. 0. 0.]\n",
            "  [0. 0. 0. 3. 0.]\n",
            "  [0. 0. 0. 0. 3.]]], shape=(2, 5, 5), dtype=float16)\n"
          ]
        }
      ]
    },
    {
      "cell_type": "code",
      "source": [
        "fill_tensor = tf.fill(\n",
        "    [1, 3,4],5, name=None\n",
        ")\n",
        "print(fill_tensor)"
      ],
      "metadata": {
        "colab": {
          "base_uri": "https://localhost:8080/"
        },
        "id": "9MftcbU1o0-1",
        "outputId": "59565824-ea4f-491d-ffe3-bedcb434b753"
      },
      "execution_count": 36,
      "outputs": [
        {
          "output_type": "stream",
          "name": "stdout",
          "text": [
            "tf.Tensor(\n",
            "[[[5 5 5 5]\n",
            "  [5 5 5 5]\n",
            "  [5 5 5 5]]], shape=(1, 3, 4), dtype=int32)\n"
          ]
        }
      ]
    },
    {
      "cell_type": "code",
      "source": [
        "# creates a tensor with all values set to one\n",
        "\n",
        "ones_tensor = tf.ones(\n",
        "    [5,3],\n",
        "    dtype = tf.dtypes.float32,\n",
        "    name = None\n",
        ")\n",
        "\n",
        "print(ones_tensor)"
      ],
      "metadata": {
        "colab": {
          "base_uri": "https://localhost:8080/"
        },
        "id": "pAPnOZFMqCjV",
        "outputId": "eff178fc-9992-4a23-ebc5-1ecab89d336b"
      },
      "execution_count": 40,
      "outputs": [
        {
          "output_type": "stream",
          "name": "stdout",
          "text": [
            "tf.Tensor(\n",
            "[[1. 1. 1.]\n",
            " [1. 1. 1.]\n",
            " [1. 1. 1.]\n",
            " [1. 1. 1.]\n",
            " [1. 1. 1.]], shape=(5, 3), dtype=float32)\n"
          ]
        }
      ]
    },
    {
      "cell_type": "code",
      "source": [
        "# creates a tensor of all ones that has the same shape as the input\n",
        "\n",
        "tensor_ones_like = tf.ones_like(fill_tensor)\n",
        "print(tensor_ones_like)"
      ],
      "metadata": {
        "colab": {
          "base_uri": "https://localhost:8080/"
        },
        "id": "uTQpgp-9qZ2T",
        "outputId": "d1b42046-d8c7-4e13-d414-3916a1d8b23d"
      },
      "execution_count": 44,
      "outputs": [
        {
          "output_type": "stream",
          "name": "stdout",
          "text": [
            "tf.Tensor(\n",
            "[[[1 1 1 1]\n",
            "  [1 1 1 1]\n",
            "  [1 1 1 1]]], shape=(1, 3, 4), dtype=int32)\n"
          ]
        }
      ]
    },
    {
      "cell_type": "code",
      "source": [
        "# all elements set to zero\n",
        "\n",
        "zeros_tensor = tf.zeros(\n",
        "    [3,2],\n",
        "    dtype=tf.dtypes.float32,\n",
        "    name=None\n",
        ")\n",
        "\n",
        "print(zeros_tensor)"
      ],
      "metadata": {
        "colab": {
          "base_uri": "https://localhost:8080/"
        },
        "id": "rQvXI-6rqrP-",
        "outputId": "41905d81-551a-4528-9c83-56cd95d523aa"
      },
      "execution_count": 47,
      "outputs": [
        {
          "output_type": "stream",
          "name": "stdout",
          "text": [
            "tf.Tensor(\n",
            "[[0. 0.]\n",
            " [0. 0.]\n",
            " [0. 0.]], shape=(3, 2), dtype=float32)\n"
          ]
        }
      ]
    },
    {
      "cell_type": "code",
      "source": [
        "# returns a tensor that has the shape of the input tensor\n",
        "\n",
        "print(tf.shape(zeros_tensor))"
      ],
      "metadata": {
        "colab": {
          "base_uri": "https://localhost:8080/"
        },
        "id": "r00s6jMArea6",
        "outputId": "25bbc38a-53c9-4215-f328-a0a4154a2c90"
      },
      "execution_count": 49,
      "outputs": [
        {
          "output_type": "stream",
          "name": "stdout",
          "text": [
            "tf.Tensor([3 2], shape=(2,), dtype=int32)\n"
          ]
        }
      ]
    },
    {
      "cell_type": "code",
      "source": [
        "# rank / size\n",
        "\n",
        "t = tf.constant([[1,2,3], [1,1,1]])\n",
        "print(tf.rank(t))\n",
        "print(tf.size(t))"
      ],
      "metadata": {
        "colab": {
          "base_uri": "https://localhost:8080/"
        },
        "id": "O-H4nmbYrsBG",
        "outputId": "12e6a197-9d5a-417d-90e1-77e573638b42"
      },
      "execution_count": 53,
      "outputs": [
        {
          "output_type": "stream",
          "name": "stdout",
          "text": [
            "tf.Tensor(2, shape=(), dtype=int32)\n",
            "tf.Tensor(6, shape=(), dtype=int32)\n"
          ]
        }
      ]
    },
    {
      "cell_type": "code",
      "source": [
        "a = tf.constant([[1, 2],\n",
        "                 [3, 4]])\n",
        "b = tf.constant([[1, 1],\n",
        "                 [1, 1]]) # Could have also said `tf.ones([2,2], dtype=tf.int32)`\n",
        "\n",
        "print(tf.add(a, b), \"\\n\")\n",
        "print(tf.multiply(a, b), \"\\n\")\n",
        "print(tf.matmul(a, b), \"\\n\")"
      ],
      "metadata": {
        "colab": {
          "base_uri": "https://localhost:8080/"
        },
        "id": "PimNhBpAvOIc",
        "outputId": "844c04d6-9589-4984-e19e-2fa504771766"
      },
      "execution_count": 54,
      "outputs": [
        {
          "output_type": "stream",
          "name": "stdout",
          "text": [
            "tf.Tensor(\n",
            "[[2 3]\n",
            " [4 5]], shape=(2, 2), dtype=int32) \n",
            "\n",
            "tf.Tensor(\n",
            "[[1 2]\n",
            " [3 4]], shape=(2, 2), dtype=int32) \n",
            "\n",
            "tf.Tensor(\n",
            "[[3 3]\n",
            " [7 7]], shape=(2, 2), dtype=int32) \n",
            "\n"
          ]
        }
      ]
    },
    {
      "cell_type": "code",
      "source": [
        "print(a + b, \"\\n\") # element-wise addition\n",
        "print(a * b, \"\\n\") # element-wise multiplication\n",
        "print(a @ b, \"\\n\") # matrix multiplication"
      ],
      "metadata": {
        "colab": {
          "base_uri": "https://localhost:8080/"
        },
        "id": "_-NiKepfvzjS",
        "outputId": "543d344d-3606-4493-a73e-db8396865ffd"
      },
      "execution_count": 55,
      "outputs": [
        {
          "output_type": "stream",
          "name": "stdout",
          "text": [
            "tf.Tensor(\n",
            "[[2 3]\n",
            " [4 5]], shape=(2, 2), dtype=int32) \n",
            "\n",
            "tf.Tensor(\n",
            "[[1 2]\n",
            " [3 4]], shape=(2, 2), dtype=int32) \n",
            "\n",
            "tf.Tensor(\n",
            "[[3 3]\n",
            " [7 7]], shape=(2, 2), dtype=int32) \n",
            "\n"
          ]
        }
      ]
    },
    {
      "cell_type": "code",
      "source": [
        "c = tf.constant([[4.0, 5.0], [10.0, 1.0]])\n",
        "\n",
        "# Find the largest value\n",
        "print(tf.reduce_max(c))\n",
        "# Find the index of the largest value\n",
        "print(tf.math.argmax(c))\n",
        "# Compute the softmax\n",
        "print(tf.nn.softmax(c))"
      ],
      "metadata": {
        "colab": {
          "base_uri": "https://localhost:8080/"
        },
        "id": "zg7K_ZCxv7in",
        "outputId": "2390f108-33e6-4636-9b3b-5e1ce7a68f25"
      },
      "execution_count": 56,
      "outputs": [
        {
          "output_type": "stream",
          "name": "stdout",
          "text": [
            "tf.Tensor(10.0, shape=(), dtype=float32)\n",
            "tf.Tensor([1 0], shape=(2,), dtype=int64)\n",
            "tf.Tensor(\n",
            "[[2.6894143e-01 7.3105860e-01]\n",
            " [9.9987662e-01 1.2339458e-04]], shape=(2, 2), dtype=float32)\n"
          ]
        }
      ]
    },
    {
      "cell_type": "code",
      "source": [
        "# generating randoms using tf\n",
        "# outputs random values from a normal distribution\n",
        "\n",
        "random_tensor = tf.random.normal(\n",
        "    [3,2],\n",
        "    mean=100,\n",
        "    stddev=1.0,\n",
        "    dtype = tf.dtypes.float32,\n",
        "    seed=None,\n",
        "    name=None\n",
        ")\n",
        "\n",
        "print(random_tensor)"
      ],
      "metadata": {
        "colab": {
          "base_uri": "https://localhost:8080/"
        },
        "id": "WRH0m9cZwCO7",
        "outputId": "ea73095e-197f-4c4c-cd90-ff3012297964"
      },
      "execution_count": 60,
      "outputs": [
        {
          "output_type": "stream",
          "name": "stdout",
          "text": [
            "tf.Tensor(\n",
            "[[ 99.81157  101.00209 ]\n",
            " [100.18729  100.256325]\n",
            " [ 99.02961  102.38209 ]], shape=(3, 2), dtype=float32)\n"
          ]
        }
      ]
    },
    {
      "cell_type": "code",
      "source": [
        "random_t = tf.random.uniform(\n",
        "    [5,5],\n",
        "    minval = 0,\n",
        "    maxval = 1000,\n",
        "    dtype = tf.dtypes.int32,\n",
        "    seed = None,\n",
        "    name = None,\n",
        ")\n",
        "\n",
        "print(random_t)"
      ],
      "metadata": {
        "colab": {
          "base_uri": "https://localhost:8080/"
        },
        "id": "kpSniJFKxLz2",
        "outputId": "574bb1b2-6d8c-444a-fc54-18aa98bf28b5"
      },
      "execution_count": 68,
      "outputs": [
        {
          "output_type": "stream",
          "name": "stdout",
          "text": [
            "tf.Tensor(\n",
            "[[130 776   8 603  76]\n",
            " [453  66 216 731 331]\n",
            " [698 503 846 568 913]\n",
            " [187 724 231 359 477]\n",
            " [215 524 138 512 844]], shape=(5, 5), dtype=int32)\n"
          ]
        }
      ]
    },
    {
      "cell_type": "code",
      "source": [
        "# setting a seed for reproducability\n",
        "\n",
        "tf.random.set_seed(5) # global seed\n",
        "random_t_seed = tf.random.uniform(\n",
        "    [5,6],\n",
        "    minval = 0,\n",
        "    maxval = 1000,\n",
        "    dtype = tf.dtypes.int32,\n",
        "    seed = 10,\n",
        "    name = None,\n",
        ")\n",
        "print(random_t_seed)"
      ],
      "metadata": {
        "colab": {
          "base_uri": "https://localhost:8080/"
        },
        "id": "prAgOVL80i57",
        "outputId": "1a83fb41-21f3-41d9-e538-88fc6d4a8fce"
      },
      "execution_count": 70,
      "outputs": [
        {
          "output_type": "stream",
          "name": "stdout",
          "text": [
            "tf.Tensor(\n",
            "[[439 703 716 183 845 486]\n",
            " [662 328 131 108 389 106]\n",
            " [880 436 712 439 758 740]\n",
            " [514 804   0 853 839 385]\n",
            " [409 988 192 743 578 137]], shape=(5, 6), dtype=int32)\n"
          ]
        }
      ]
    },
    {
      "cell_type": "code",
      "source": [
        "tf.random.set_seed(5) # global seed\n",
        "random_t_seed = tf.random.uniform(\n",
        "    [5,6],\n",
        "    minval = 0,\n",
        "    maxval = 1000,\n",
        "    dtype = tf.dtypes.int32,\n",
        "    seed = 10,\n",
        "    name = None,\n",
        ")\n",
        "print(random_t_seed) #same output bc of seed"
      ],
      "metadata": {
        "colab": {
          "base_uri": "https://localhost:8080/"
        },
        "id": "ihMCaApc1rur",
        "outputId": "3ab87079-9a75-4d16-8ce4-6e6e5bf638ef"
      },
      "execution_count": 71,
      "outputs": [
        {
          "output_type": "stream",
          "name": "stdout",
          "text": [
            "tf.Tensor(\n",
            "[[439 703 716 183 845 486]\n",
            " [662 328 131 108 389 106]\n",
            " [880 436 712 439 758 740]\n",
            " [514 804   0 853 839 385]\n",
            " [409 988 192 743 578 137]], shape=(5, 6), dtype=int32)\n"
          ]
        }
      ]
    },
    {
      "cell_type": "markdown",
      "source": [
        "#Tensor Slicing"
      ],
      "metadata": {
        "id": "f7Tynb7E2NMG"
      }
    },
    {
      "cell_type": "code",
      "source": [
        "tensor_indexed = tf.constant([3,6,2,4,6,66,7])\n",
        "print(tensor_indexed)\n",
        "print(tensor_indexed[:4])\n",
        "\n"
      ],
      "metadata": {
        "colab": {
          "base_uri": "https://localhost:8080/"
        },
        "id": "LcVA_Yhl15J0",
        "outputId": "b28e8157-16b1-400f-8b40-50fb265053fe"
      },
      "execution_count": 77,
      "outputs": [
        {
          "output_type": "stream",
          "name": "stdout",
          "text": [
            "tf.Tensor([ 3  6  2  4  6 66  7], shape=(7,), dtype=int32)\n",
            "tf.Tensor([3 6 2 4], shape=(4,), dtype=int32)\n"
          ]
        }
      ]
    },
    {
      "cell_type": "code",
      "source": [
        "tensor_indexed_two_d = tf.constant([\n",
        "    [1,2,3],\n",
        "    [1,2,4],\n",
        "    [4,7,9],\n",
        "    [2,3,8]\n",
        "])\n",
        "\n",
        "# print(tf.shape(tensor_indexed_two_d))\n",
        "print(tensor_indexed_two_d[0,2]) #left side represents rows, right side represents columns\n",
        "print(tensor_indexed_two_d[0:3, 2])\n",
        "print(tensor_indexed_two_d[:,1])\n",
        "print(tensor_indexed_two_d[...,1]) #three dots mean picking up everything"
      ],
      "metadata": {
        "colab": {
          "base_uri": "https://localhost:8080/"
        },
        "id": "AsnishQC2YN7",
        "outputId": "1095cc3e-8900-4f51-fd11-7765602a3bb9"
      },
      "execution_count": 95,
      "outputs": [
        {
          "output_type": "stream",
          "name": "stdout",
          "text": [
            "tf.Tensor(3, shape=(), dtype=int32)\n",
            "tf.Tensor([3 4 9], shape=(3,), dtype=int32)\n",
            "tf.Tensor([2 2 7 3], shape=(4,), dtype=int32)\n",
            "tf.Tensor([2 2 7 3], shape=(4,), dtype=int32)\n"
          ]
        }
      ]
    },
    {
      "cell_type": "code",
      "source": [
        "tensor_three_d_index = tf.constant([\n",
        "    [[1,2,0],\n",
        "     [3,5,-1]],\n",
        "\n",
        "    [[10,2,0],\n",
        "     [1,0,2]],\n",
        "\n",
        "    [[5,8,0],\n",
        "    [2,7,0]],\n",
        "\n",
        "    [[2,1,9],\n",
        "     [4,-3,32]],\n",
        "\n",
        "])\n",
        "\n",
        "print(tensor_three_d_index[0, :, :]) #first dimentsion, second dimension, third dimension\n",
        "print(tensor_three_d_index[0, :, 1])\n",
        "print(tensor_three_d_index[:, 1, :])"
      ],
      "metadata": {
        "colab": {
          "base_uri": "https://localhost:8080/"
        },
        "id": "Q1a1jUHh3PnW",
        "outputId": "ad2d8b6f-7633-4889-ba4b-7e03138f6818"
      },
      "execution_count": 103,
      "outputs": [
        {
          "output_type": "stream",
          "name": "stdout",
          "text": [
            "tf.Tensor(\n",
            "[[ 1  2  0]\n",
            " [ 3  5 -1]], shape=(2, 3), dtype=int32)\n",
            "tf.Tensor([2 5], shape=(2,), dtype=int32)\n",
            "tf.Tensor(\n",
            "[[ 3  5 -1]\n",
            " [ 1  0  2]\n",
            " [ 2  7  0]\n",
            " [ 4 -3 32]], shape=(4, 3), dtype=int32)\n"
          ]
        }
      ]
    },
    {
      "cell_type": "code",
      "source": [],
      "metadata": {
        "id": "eH8LYmeU4r_F"
      },
      "execution_count": null,
      "outputs": []
    }
  ]
}