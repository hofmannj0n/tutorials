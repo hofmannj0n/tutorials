{
  "nbformat": 4,
  "nbformat_minor": 0,
  "metadata": {
    "colab": {
      "provenance": []
    },
    "kernelspec": {
      "name": "python3",
      "display_name": "Python 3"
    },
    "language_info": {
      "name": "python"
    }
  },
  "cells": [
    {
      "cell_type": "markdown",
      "source": [
        "Data Structures and Algorithims\n"
      ],
      "metadata": {
        "id": "i3m2Yk40jo21"
      }
    },
    {
      "cell_type": "code",
      "source": [
        "# string\n",
        "x = 'frog'\n",
        "print(x[3])\n",
        "\n",
        "# list\n",
        "x = ['pig', 'cow', 'horse']\n",
        "print(x[1])\n",
        "\n",
        "# tuple\n",
        "x = ('Kevin', 'Niklas', 'Jenny', 'Craig')\n",
        "print(x[0])"
      ],
      "metadata": {
        "colab": {
          "base_uri": "https://localhost:8080/"
        },
        "id": "3B1VGZE1jroR",
        "outputId": "761dc5ac-d958-4e36-ddfd-5183a3a723be"
      },
      "execution_count": 2,
      "outputs": [
        {
          "output_type": "stream",
          "name": "stdout",
          "text": [
            "g\n",
            "cow\n",
            "Kevin\n"
          ]
        }
      ]
    },
    {
      "cell_type": "markdown",
      "source": [
        "slicing - slice out substrings, sublists, subtuples using indexes\n",
        "[start : end+1 : step]\n",
        "[start is inclusive, end is non-inclusive]"
      ],
      "metadata": {
        "id": "LFXTtETvk1Ff"
      }
    },
    {
      "cell_type": "code",
      "source": [
        "# slicing\n",
        "x = 'computer'\n",
        "print(x[1:6])\n",
        "print(x[1:6:2]) # step of 2\n",
        "print(x[3:])\n",
        "print(x[:5])\n",
        "print(x[-1])\n",
        "print(x[-3])\n",
        "print(x[:-2])\n"
      ],
      "metadata": {
        "colab": {
          "base_uri": "https://localhost:8080/"
        },
        "id": "_sky8zbrjvyc",
        "outputId": "ec0afcfd-df8d-44c9-a919-90a1e0445fc0"
      },
      "execution_count": 4,
      "outputs": [
        {
          "output_type": "stream",
          "name": "stdout",
          "text": [
            "omput\n",
            "opt\n",
            "puter\n",
            "compu\n",
            "r\n",
            "t\n",
            "comput\n"
          ]
        }
      ]
    },
    {
      "cell_type": "markdown",
      "source": [
        "adding / oconcatenating - combine 2 sequences of the same type by using +"
      ],
      "metadata": {
        "id": "3tKSlbT2lx-b"
      }
    },
    {
      "cell_type": "code",
      "source": [
        "# string\n",
        "x = 'horse' + 'shoe'\n",
        "print(x)\n",
        "\n",
        "# list\n",
        "y = ['pig', 'cow'] + ['horse']\n",
        "print(y)\n",
        "\n",
        "# tuple\n",
        "z = ('Kevin', \"Niklas\", 'Jenny') + ('Craig',) # have to include comma or is just a string in parantheses\n",
        "print(z)"
      ],
      "metadata": {
        "colab": {
          "base_uri": "https://localhost:8080/"
        },
        "id": "jj9nmG6rlLOr",
        "outputId": "62f4e1c3-be13-4762-ea5d-45ba416984a8"
      },
      "execution_count": 5,
      "outputs": [
        {
          "output_type": "stream",
          "name": "stdout",
          "text": [
            "horseshoe\n",
            "['pig', 'cow', 'horse']\n",
            "('Kevin', 'Niklas', 'Jenny', 'Craig')\n"
          ]
        }
      ]
    },
    {
      "cell_type": "markdown",
      "source": [
        "multiplying a sequence using *"
      ],
      "metadata": {
        "id": "OvJuh63bnOTT"
      }
    },
    {
      "cell_type": "code",
      "source": [
        "# string\n",
        "x = 'bug' * 3\n",
        "print(x)\n",
        "\n",
        "# list\n",
        "y = [8, 5] * 3\n",
        "print(y)\n",
        "\n",
        "# tuple\n",
        "z = (2, 4) * 3\n",
        "print(z)"
      ],
      "metadata": {
        "colab": {
          "base_uri": "https://localhost:8080/"
        },
        "id": "n9yai6uanAtp",
        "outputId": "7a685839-1d23-4342-8dfc-8acfe46107e9"
      },
      "execution_count": 7,
      "outputs": [
        {
          "output_type": "stream",
          "name": "stdout",
          "text": [
            "bugbugbug\n",
            "[8, 5, 8, 5, 8, 5]\n",
            "(2, 4, 2, 4, 2, 4)\n"
          ]
        }
      ]
    },
    {
      "cell_type": "markdown",
      "source": [
        "checking membership\n"
      ],
      "metadata": {
        "id": "nzSXvpk8nS7q"
      }
    },
    {
      "cell_type": "code",
      "source": [
        "# string\n",
        "x = 'bug'\n",
        "print('u' in x)\n",
        "\n",
        "# list\n",
        "y = ['pig', 'cow', 'horse']\n",
        "print('cow' not in y)\n",
        "\n",
        "# tuple\n",
        "z = ('Kevin', 'Niklas', 'Jenny', 'Craig')\n",
        "print('Niklas' in z)"
      ],
      "metadata": {
        "colab": {
          "base_uri": "https://localhost:8080/"
        },
        "id": "KC588SktnVhi",
        "outputId": "c4bae89b-c353-4a29-b00b-ba29a3784b8c"
      },
      "execution_count": 8,
      "outputs": [
        {
          "output_type": "stream",
          "name": "stdout",
          "text": [
            "True\n",
            "False\n",
            "True\n"
          ]
        }
      ]
    },
    {
      "cell_type": "markdown",
      "source": [
        "iterating through the items in a sequence\n"
      ],
      "metadata": {
        "id": "hf1-6y4UnwKa"
      }
    },
    {
      "cell_type": "code",
      "source": [
        "# item\n",
        "x = [7, 8, 9]\n",
        "for item in x:\n",
        "  print(item)\n",
        "\n",
        "# index and item\n",
        "y = [7, 8, 3]\n",
        "for index, item in enumerate(y):\n",
        "  print(index, item)"
      ],
      "metadata": {
        "colab": {
          "base_uri": "https://localhost:8080/"
        },
        "id": "0T946KX4nyo2",
        "outputId": "39d597bc-70a5-4f4c-cc47-f6f6a0083bbd"
      },
      "execution_count": 9,
      "outputs": [
        {
          "output_type": "stream",
          "name": "stdout",
          "text": [
            "7\n",
            "8\n",
            "9\n",
            "0 7\n",
            "1 8\n",
            "2 3\n"
          ]
        }
      ]
    },
    {
      "cell_type": "markdown",
      "source": [
        "min / max / len\n"
      ],
      "metadata": {
        "id": "EM0Yl6mNoK8U"
      }
    },
    {
      "cell_type": "code",
      "source": [
        "# string\n",
        "x = 'bug'\n",
        "print(min(x))\n",
        "print(max(x))\n",
        "print(len(x))\n",
        "\n",
        "# list\n",
        "y = ['pig', 'cow', 'horse']\n",
        "print(min(y))\n",
        "print(max(y))\n",
        "print(len(y))\n",
        "\n",
        "# tuple\n",
        "z = ('Kevin', 'Niklas', 'Jenny', 'Craig')\n",
        "print(min(z))\n",
        "print(max(z))\n",
        "print(len(z))"
      ],
      "metadata": {
        "colab": {
          "base_uri": "https://localhost:8080/"
        },
        "id": "AEF8QuT6oKth",
        "outputId": "f28a85be-e0d4-4504-e127-9060392fcdcb"
      },
      "execution_count": 10,
      "outputs": [
        {
          "output_type": "stream",
          "name": "stdout",
          "text": [
            "b\n",
            "u\n",
            "3\n",
            "cow\n",
            "pig\n",
            "3\n",
            "Craig\n",
            "Niklas\n",
            "4\n"
          ]
        }
      ]
    },
    {
      "cell_type": "markdown",
      "source": [
        "sum - find the sum of items in a sequence, entire sequence has to be numeric\n"
      ],
      "metadata": {
        "id": "86k8Wgstp3rQ"
      }
    },
    {
      "cell_type": "code",
      "source": [
        "# string -> error\n",
        "# x = [5, 7, 'bug']\n",
        "# print(sum(x)) -> generates an error\n",
        "\n",
        "# list\n",
        "y = [2, 5, 8, 12]\n",
        "print(sum(y))\n",
        "print(sum(y[-2:]))\n",
        "\n",
        "# tuple\n",
        "z = (50, 4, 7, 19)\n",
        "print(sum(z))\n"
      ],
      "metadata": {
        "colab": {
          "base_uri": "https://localhost:8080/"
        },
        "id": "LGjqAIEQokv_",
        "outputId": "139824a0-8b3b-4eb8-ace5-a852ed06e8e7"
      },
      "execution_count": 11,
      "outputs": [
        {
          "output_type": "stream",
          "name": "stdout",
          "text": [
            "27\n",
            "20\n",
            "80\n"
          ]
        }
      ]
    },
    {
      "cell_type": "markdown",
      "source": [
        "sorting - returns a new list of items in sorted order\n",
        "does not change the original list"
      ],
      "metadata": {
        "id": "GvNtPGUerAJA"
      }
    },
    {
      "cell_type": "code",
      "source": [
        "# string\n",
        "x = 'bug'\n",
        "print(sorted(x))\n",
        "\n",
        "# list\n",
        "y = ['pig', 'cow', 'horse']\n",
        "print(sorted(y))\n",
        "\n",
        "# tuple\n",
        "z = ('Kevin', 'Niklas', 'Jenny', 'Craig')\n",
        "print(sorted(z))\n"
      ],
      "metadata": {
        "colab": {
          "base_uri": "https://localhost:8080/"
        },
        "id": "QfZFx-ecqNvy",
        "outputId": "62c3fe7c-72c5-4ddd-dbed-f258e5bbb8b8"
      },
      "execution_count": 12,
      "outputs": [
        {
          "output_type": "stream",
          "name": "stdout",
          "text": [
            "['b', 'g', 'u']\n",
            "['cow', 'horse', 'pig']\n",
            "['Craig', 'Jenny', 'Kevin', 'Niklas']\n"
          ]
        }
      ]
    },
    {
      "cell_type": "markdown",
      "source": [
        "sorting - sort by second leter\n",
        "\n",
        "Add a parameter and a lamabda function to return the second character\n",
        "\n",
        "(the word key here is a defined parameter name, k is just an arbitrary variable name)."
      ],
      "metadata": {
        "id": "7mB7Y3I5rTLv"
      }
    },
    {
      "cell_type": "code",
      "source": [
        "z = ('Kevin', 'Niklas', 'Jenny', 'Craig')\n",
        "print(sorted(z, key=lambda k: k[1]))"
      ],
      "metadata": {
        "colab": {
          "base_uri": "https://localhost:8080/"
        },
        "id": "lLzbLdvxrRMH",
        "outputId": "228d4ead-4b8c-4f98-8e6f-331d98468f4d"
      },
      "execution_count": 13,
      "outputs": [
        {
          "output_type": "stream",
          "name": "stdout",
          "text": [
            "['Kevin', 'Jenny', 'Niklas', 'Craig']\n"
          ]
        }
      ]
    },
    {
      "cell_type": "markdown",
      "source": [
        "count(item) - returns count of an item"
      ],
      "metadata": {
        "id": "kpVzX9qZr5lK"
      }
    },
    {
      "cell_type": "code",
      "source": [
        "# string\n",
        "x = 'hippo'\n",
        "print(x.count('p'))\n",
        "\n",
        "# list\n",
        "y = ['pig', 'cow', 'horse', 'cow']\n",
        "print(y.count('cow'))\n",
        "\n",
        "# tuple\n",
        "z = ('Kevin', 'Niklas', 'Jenny', 'Craig')\n",
        "print(z.count('Kevin'))"
      ],
      "metadata": {
        "colab": {
          "base_uri": "https://localhost:8080/"
        },
        "id": "wz3tFJsFrxMp",
        "outputId": "02a42ba6-3315-4485-b8d7-04fc9af162c4"
      },
      "execution_count": 14,
      "outputs": [
        {
          "output_type": "stream",
          "name": "stdout",
          "text": [
            "2\n",
            "2\n",
            "1\n"
          ]
        }
      ]
    },
    {
      "cell_type": "markdown",
      "source": [
        "index(item) -  returns the index of the first occurence of an item"
      ],
      "metadata": {
        "id": "vSKkyUbBsVFL"
      }
    },
    {
      "cell_type": "code",
      "source": [
        "# string\n",
        "x = 'hippo'\n",
        "print(x.index('p'))\n",
        "\n",
        "# list\n",
        "y = ['pig', 'cow', 'horse', 'cow']\n",
        "print(y.index('cow'))\n",
        "\n",
        "# tuple\n",
        "z = ('Kevin', 'Niklas', 'Jenny', 'Craig')\n",
        "print(z.index('Jenny'))"
      ],
      "metadata": {
        "colab": {
          "base_uri": "https://localhost:8080/"
        },
        "id": "31AizgL8sI0O",
        "outputId": "a426d383-1b02-4ca7-c652-9ae4faeb3515"
      },
      "execution_count": 16,
      "outputs": [
        {
          "output_type": "stream",
          "name": "stdout",
          "text": [
            "2\n",
            "1\n",
            "2\n"
          ]
        }
      ]
    },
    {
      "cell_type": "markdown",
      "source": [
        "unpacking - unpack the n items of oa sequence into n variables"
      ],
      "metadata": {
        "id": "QI1pLlyPso0L"
      }
    },
    {
      "cell_type": "code",
      "source": [
        "x = ['pig', 'cow', 'horse']\n",
        "a, b, c = x\n",
        "print(a, b, c)"
      ],
      "metadata": {
        "colab": {
          "base_uri": "https://localhost:8080/"
        },
        "id": "mMpEHulEsaFe",
        "outputId": "f5e97272-ba12-415a-f573-155da14fc763"
      },
      "execution_count": 17,
      "outputs": [
        {
          "output_type": "stream",
          "name": "stdout",
          "text": [
            "pig cow horse\n"
          ]
        }
      ]
    },
    {
      "cell_type": "markdown",
      "source": [
        "### **Lists**"
      ],
      "metadata": {
        "id": "t35tA86QtJH4"
      }
    },
    {
      "cell_type": "markdown",
      "source": [
        "- general purpose\n",
        "- most widely using data structure\n",
        "- grow and shrink size as needed\n",
        "- sequence type\n",
        "- sortable\n",
        "\n",
        "*constructors* - creating a new list"
      ],
      "metadata": {
        "id": "w5CbzDfktRP7"
      }
    },
    {
      "cell_type": "code",
      "source": [
        "x = list()\n",
        "y = ['a', 25, 'dog', 8.43]\n",
        "tuplel = (10, 20)\n",
        "z = list(tuplel)\n",
        "\n",
        "# list comprehension\n",
        "a = [m for m in range(8)]\n",
        "print(a)\n",
        "b = [i**2 for i in range(10) if i>4]\n",
        "print(b)"
      ],
      "metadata": {
        "colab": {
          "base_uri": "https://localhost:8080/"
        },
        "id": "3UUv8q1Csw0i",
        "outputId": "aa12297a-0a3c-4ff9-f7ca-039585ef67e9"
      },
      "execution_count": 19,
      "outputs": [
        {
          "output_type": "stream",
          "name": "stdout",
          "text": [
            "[0, 1, 2, 3, 4, 5, 6, 7]\n",
            "[25, 36, 49, 64, 81]\n"
          ]
        }
      ]
    },
    {
      "cell_type": "markdown",
      "source": [
        "delete and append - delete a list or an item in a list, append an item to the tail of a list"
      ],
      "metadata": {
        "id": "RU8QW4lYuaya"
      }
    },
    {
      "cell_type": "code",
      "source": [
        "x = [5, 3, 8, 6]\n",
        "del(x[1])\n",
        "print(x)\n",
        "del(x)\n",
        "\n",
        "x = [5, 3, 8, 6]\n",
        "x.append(7)\n",
        "print(x)"
      ],
      "metadata": {
        "colab": {
          "base_uri": "https://localhost:8080/"
        },
        "id": "0VZBVbyZt-45",
        "outputId": "e0a4c6cc-ee6d-4ad3-f9f7-1f22eedf4239"
      },
      "execution_count": 21,
      "outputs": [
        {
          "output_type": "stream",
          "name": "stdout",
          "text": [
            "[5, 8, 6]\n",
            "[5, 3, 8, 6, 7]\n"
          ]
        }
      ]
    },
    {
      "cell_type": "markdown",
      "source": [
        "extend a sequence to a list, combining two seperate lists into one list\n"
      ],
      "metadata": {
        "id": "rx2hDWkPu3Bt"
      }
    },
    {
      "cell_type": "code",
      "source": [
        "x = [5, 3, 8, 6]\n",
        "y = [12, 13]\n",
        "\n",
        "x.extend(y)\n",
        "print(x)"
      ],
      "metadata": {
        "colab": {
          "base_uri": "https://localhost:8080/"
        },
        "id": "ieUVMLFrus5-",
        "outputId": "e9398d70-6ad1-4806-9a86-9ac04a8e185d"
      },
      "execution_count": 23,
      "outputs": [
        {
          "output_type": "stream",
          "name": "stdout",
          "text": [
            "[5, 3, 8, 6, 12, 13]\n"
          ]
        }
      ]
    },
    {
      "cell_type": "markdown",
      "source": [
        "insert - insert an item at a given index"
      ],
      "metadata": {
        "id": "uOAAj7GovELn"
      }
    },
    {
      "cell_type": "code",
      "source": [
        "x = [5, 3, 8, 6]\n",
        "x.insert(1,7) # insert 7 at the 1th index\n",
        "print(x)\n",
        "x.insert(1, ['a', 'm'])\n",
        "print(x)"
      ],
      "metadata": {
        "colab": {
          "base_uri": "https://localhost:8080/"
        },
        "id": "nxmOiYrUvBB3",
        "outputId": "7a7001f4-fab5-4a84-af76-266522737e9b"
      },
      "execution_count": 25,
      "outputs": [
        {
          "output_type": "stream",
          "name": "stdout",
          "text": [
            "[5, 7, 3, 8, 6]\n",
            "[5, ['a', 'm'], 7, 3, 8, 6]\n"
          ]
        }
      ]
    },
    {
      "cell_type": "markdown",
      "source": [
        "pop - pops last item off list and returns item"
      ],
      "metadata": {
        "id": "dGUkzLKJvVxa"
      }
    },
    {
      "cell_type": "code",
      "source": [
        "x = [5, 3, 8, 6]\n",
        "x.pop() #pop off the 6\n",
        "print(x)\n",
        "print(x.pop())"
      ],
      "metadata": {
        "colab": {
          "base_uri": "https://localhost:8080/"
        },
        "id": "cvd-MSewvM1n",
        "outputId": "65ce2552-7bbf-44a4-e7c9-33474e2b4915"
      },
      "execution_count": 27,
      "outputs": [
        {
          "output_type": "stream",
          "name": "stdout",
          "text": [
            "[5, 3, 8]\n",
            "8\n"
          ]
        }
      ]
    },
    {
      "cell_type": "markdown",
      "source": [
        "remove - remove the first instance of an item"
      ],
      "metadata": {
        "id": "ndp7-_eHvguc"
      }
    },
    {
      "cell_type": "code",
      "source": [
        "x = [5, 3, 8, 6, 3]\n",
        "x.remove(3)\n",
        "print(x)"
      ],
      "metadata": {
        "colab": {
          "base_uri": "https://localhost:8080/"
        },
        "id": "bYrTI87HvbJa",
        "outputId": "35e17e78-15e3-4e4f-e7b0-0162807e5fb4"
      },
      "execution_count": 28,
      "outputs": [
        {
          "output_type": "stream",
          "name": "stdout",
          "text": [
            "[5, 8, 6, 3]\n"
          ]
        }
      ]
    },
    {
      "cell_type": "markdown",
      "source": [
        "reverse - reverse the order of the list.  it is an in-place sort, meaning it changes the original list"
      ],
      "metadata": {
        "id": "dONpl62KvyQk"
      }
    },
    {
      "cell_type": "code",
      "source": [
        "x = [5, 3, 8, 6]\n",
        "x.reverse()\n",
        "print(x)"
      ],
      "metadata": {
        "colab": {
          "base_uri": "https://localhost:8080/"
        },
        "id": "VZmqQlGOvqKh",
        "outputId": "5a3644b5-c962-46c4-f5ef-10988514d15b"
      },
      "execution_count": 29,
      "outputs": [
        {
          "output_type": "stream",
          "name": "stdout",
          "text": [
            "[6, 8, 3, 5]\n"
          ]
        }
      ]
    },
    {
      "cell_type": "markdown",
      "source": [
        "sort - sort the list in place\n",
        "\n",
        "Note:\n",
        "\n",
        "sorted(x) returns a new sorted list without changing the original list x\n",
        "\n",
        "x.sort() puts the items of x in sorted order (sorts in place)\n"
      ],
      "metadata": {
        "id": "PycFZlauv6Rl"
      }
    },
    {
      "cell_type": "code",
      "source": [
        "x = [5, 3, 8, 6]\n",
        "\n",
        "x.sort()\n",
        "print(x)"
      ],
      "metadata": {
        "colab": {
          "base_uri": "https://localhost:8080/"
        },
        "id": "Y9C5i1hBv43D",
        "outputId": "175c47f1-d4fb-4d72-99e6-673a17539a7a"
      },
      "execution_count": 30,
      "outputs": [
        {
          "output_type": "stream",
          "name": "stdout",
          "text": [
            "[3, 5, 6, 8]\n"
          ]
        }
      ]
    },
    {
      "cell_type": "markdown",
      "source": [
        "reverse sort - sort items descending\n",
        "use reverse=True parameter to the sort function"
      ],
      "metadata": {
        "id": "7xxnllR8wGu-"
      }
    },
    {
      "cell_type": "code",
      "source": [
        "x = [5, 3, 8, 6]\n",
        "\n",
        "x.sort(reverse=True)\n",
        "print(x)"
      ],
      "metadata": {
        "colab": {
          "base_uri": "https://localhost:8080/"
        },
        "id": "B5oJQ58gwF0z",
        "outputId": "d1f80ce9-2334-4964-db0a-e789f5ef990a"
      },
      "execution_count": 31,
      "outputs": [
        {
          "output_type": "stream",
          "name": "stdout",
          "text": [
            "[8, 6, 5, 3]\n"
          ]
        }
      ]
    },
    {
      "cell_type": "markdown",
      "source": [
        "Tuples"
      ],
      "metadata": {
        "id": "2-VvRaeZ4IXb"
      }
    },
    {
      "cell_type": "markdown",
      "source": [
        "- immutable (can't add / change)\n",
        "- useful for fixed data\n",
        "- faster than lists\n",
        "- sequence type\n",
        "\n",
        "*constructors* - creating new tuples"
      ],
      "metadata": {
        "id": "ZsZru4Uc4K0_"
      }
    },
    {
      "cell_type": "code",
      "source": [
        "x = ()\n",
        "x = (1, 2, 3)\n",
        "x = 1, 2, 3\n",
        "x = 2, # the comma tells python its a tuple\n",
        "print(x, type(x))"
      ],
      "metadata": {
        "colab": {
          "base_uri": "https://localhost:8080/"
        },
        "id": "0pz7L4LSwNFu",
        "outputId": "ed636c4e-52bd-4d54-8dd3-05f7b87bc80c"
      },
      "execution_count": 32,
      "outputs": [
        {
          "output_type": "stream",
          "name": "stdout",
          "text": [
            "(2,) <class 'tuple'>\n"
          ]
        }
      ]
    },
    {
      "cell_type": "markdown",
      "source": [
        "tuples are immutable, but member objects may be mutable"
      ],
      "metadata": {
        "id": "g_S2r5O36VH_"
      }
    },
    {
      "cell_type": "code",
      "source": [
        "x = (1, 2, 3)\n",
        "# del(x[1]) -> fails\n",
        "# x[1] = 8 -> fails\n",
        "print(x)\n",
        "\n",
        "y = ([1, 2], 3) # a tuple where the first item is a list\n",
        "del(y[0][1]) # delete the two\n",
        "print(y) # the list within the tuple is mutable\n",
        "\n",
        "y += (4, )\n",
        "print(y)"
      ],
      "metadata": {
        "colab": {
          "base_uri": "https://localhost:8080/"
        },
        "id": "Nl0vNcFF4bLt",
        "outputId": "c9fa9d9e-442c-4f35-f5b7-1980f6002d09"
      },
      "execution_count": 33,
      "outputs": [
        {
          "output_type": "stream",
          "name": "stdout",
          "text": [
            "(1, 2, 3)\n",
            "([1], 3)\n",
            "([1], 3, 4)\n"
          ]
        }
      ]
    },
    {
      "cell_type": "markdown",
      "source": [
        "Sets"
      ],
      "metadata": {
        "id": "acVKgtSd7VYM"
      }
    },
    {
      "cell_type": "markdown",
      "source": [
        "- store non-duplicate items\n",
        "- very fast access vs lists\n",
        "-math set ops (union, intersect)\n",
        "- sets are unordered\n",
        "\n",
        "*constructors* - creating new sets"
      ],
      "metadata": {
        "id": "Bobbn8vm7WRw"
      }
    },
    {
      "cell_type": "code",
      "source": [
        "x = {3, 5, 3, 5}\n",
        "print(x)\n",
        "\n",
        "y = set()\n",
        "print(y)\n",
        "\n",
        "list1 = [2, 3, 4]\n",
        "z = set(list1)\n",
        "print(z)"
      ],
      "metadata": {
        "colab": {
          "base_uri": "https://localhost:8080/"
        },
        "id": "-3TUth0b7Ld7",
        "outputId": "e969a3ab-e1a0-4ebc-d35a-38b12784eb05"
      },
      "execution_count": 35,
      "outputs": [
        {
          "output_type": "stream",
          "name": "stdout",
          "text": [
            "{3, 5}\n",
            "set()\n",
            "{2, 3, 4}\n"
          ]
        }
      ]
    },
    {
      "cell_type": "markdown",
      "source": [
        "set operations"
      ],
      "metadata": {
        "id": "AbwmkejZ8BLD"
      }
    },
    {
      "cell_type": "code",
      "source": [
        "x = {3, 8, 5}\n",
        "print(x)\n",
        "x.add(7)\n",
        "\n",
        "# remove first instance of 3\n",
        "x.remove(3)\n",
        "print(x)\n",
        "\n",
        "# length of set x\n",
        "print(len(x))\n",
        "\n",
        "# check membership of 5 in x\n",
        "print(5 in x)\n",
        "\n",
        "# pop random item from set x\n",
        "print(x.pop(), x)\n",
        "\n",
        "# delete all items from set x\n",
        "x.clear()\n",
        "print(x)"
      ],
      "metadata": {
        "colab": {
          "base_uri": "https://localhost:8080/"
        },
        "id": "RFCBX1037mEu",
        "outputId": "44c788c3-eff7-49df-8fe9-27fc8c9bd4a4"
      },
      "execution_count": 37,
      "outputs": [
        {
          "output_type": "stream",
          "name": "stdout",
          "text": [
            "{8, 3, 5}\n",
            "{8, 5, 7}\n",
            "3\n",
            "True\n",
            "8 {5, 7}\n",
            "set()\n"
          ]
        }
      ]
    },
    {
      "cell_type": "markdown",
      "source": [
        "##Mathematical set operations:\n",
        "\n",
        "\n",
        "intersection (AND): set1 & set2\n",
        "\n",
        "Union (OR) set1 | set2\n",
        "\n",
        "symmetric difference (XOR): set1 ^ set2 difference (in set 1 but not set2): set1-set2\n",
        "\n",
        "subset (set2 contains set1): set1 <= set2\n",
        "\n",
        "superset (set1 contains set2): set1 >= set2"
      ],
      "metadata": {
        "id": "a5fT8MBB8pI4"
      }
    },
    {
      "cell_type": "code",
      "source": [
        "s1 = {1, 2, 3}\n",
        "s2 = {3, 4, 5}\n",
        "\n",
        "print(s1 & s2)\n",
        "print(s1 | s2)\n",
        "print(s1 ^ s2)\n",
        "print(s1 - s2)\n",
        "print(s1 <= s2)\n",
        "print(s1 >= s2)"
      ],
      "metadata": {
        "colab": {
          "base_uri": "https://localhost:8080/"
        },
        "id": "3Hy9odDR8J8l",
        "outputId": "a0efbb19-d720-4b23-dc98-a2d399eeccce"
      },
      "execution_count": 38,
      "outputs": [
        {
          "output_type": "stream",
          "name": "stdout",
          "text": [
            "{3}\n",
            "{1, 2, 3, 4, 5}\n",
            "{1, 2, 4, 5}\n",
            "{1, 2}\n",
            "False\n",
            "False\n"
          ]
        }
      ]
    },
    {
      "cell_type": "markdown",
      "source": [
        "#Dictionaries (dict)\n",
        "\n",
        "- Key/Value pairs\n",
        "\n",
        "- Associative array, like java hash map\n",
        "\n",
        "- Dicts are unordered (can't be sorted)"
      ],
      "metadata": {
        "id": "L_eRumLhSVpe"
      }
    },
    {
      "cell_type": "code",
      "source": [
        "# three ways to construct the exact same dictionary\n",
        "\n",
        "x = {'pork':25.3, 'beef':33.8, 'chicken':22.7}\n",
        "print(x)\n",
        "\n",
        "x = dict([('pork', 25.3), ('beef', 33.8), ('chicken', 22.7)])\n",
        "print(x)\n",
        "\n",
        "x = dict(pork = 25.3, beef=33.8, chicken =22.7)\n",
        "print(x)"
      ],
      "metadata": {
        "colab": {
          "base_uri": "https://localhost:8080/"
        },
        "id": "ZJ6L05Rt9RB0",
        "outputId": "ef708b8e-b33f-49b9-8a81-10402c8c1643"
      },
      "execution_count": 1,
      "outputs": [
        {
          "output_type": "stream",
          "name": "stdout",
          "text": [
            "{'pork': 25.3, 'beef': 33.8, 'chicken': 22.7}\n",
            "{'pork': 25.3, 'beef': 33.8, 'chicken': 22.7}\n",
            "{'pork': 25.3, 'beef': 33.8, 'chicken': 22.7}\n"
          ]
        }
      ]
    },
    {
      "cell_type": "markdown",
      "source": [
        "Dict operations"
      ],
      "metadata": {
        "id": "m8V5LvT8T3Fw"
      }
    },
    {
      "cell_type": "code",
      "source": [
        "x['shrimp'] = 38.2\n",
        "print(x)\n",
        "\n",
        "# delete an item\n",
        "del(x['shrimp'])\n",
        "print(x)\n",
        "\n",
        "# get the length of x\n",
        "print(len(x))\n",
        "\n",
        "# delete all items from dict x\n",
        "x.clear()\n",
        "print(x)\n",
        "\n",
        "# delete dict x\n",
        "del(x)\n"
      ],
      "metadata": {
        "colab": {
          "base_uri": "https://localhost:8080/"
        },
        "id": "zbLt5M4dTC8s",
        "outputId": "53864ede-1173-4f7f-86fc-c0b53ee0fb81"
      },
      "execution_count": 4,
      "outputs": [
        {
          "output_type": "stream",
          "name": "stdout",
          "text": [
            "{'pork': 25.3, 'beef': 33.8, 'chicken': 22.7, 'shrimp': 38.2}\n",
            "{'pork': 25.3, 'beef': 33.8, 'chicken': 22.7}\n",
            "3\n",
            "{}\n"
          ]
        }
      ]
    },
    {
      "cell_type": "markdown",
      "source": [
        "accessing keys and values within a dict\n"
      ],
      "metadata": {
        "id": "6z8CZztNUgrg"
      }
    },
    {
      "cell_type": "code",
      "source": [
        "y = {'pork':25.3, 'beef':33.8, 'chicken':22.7}\n",
        "print(y.keys())\n",
        "print(y.values())\n",
        "print(y.items())\n",
        "\n",
        "# check membership in y_keys\n",
        "print('beef' in y)\n",
        "\n",
        "# check membership in y_values\n",
        "print('clams' in y.values())"
      ],
      "metadata": {
        "colab": {
          "base_uri": "https://localhost:8080/"
        },
        "id": "jRAE2EPbT7jA",
        "outputId": "689221b7-094a-4d2f-8e79-cfd4c1e61380"
      },
      "execution_count": 5,
      "outputs": [
        {
          "output_type": "stream",
          "name": "stdout",
          "text": [
            "dict_keys(['pork', 'beef', 'chicken'])\n",
            "dict_values([25.3, 33.8, 22.7])\n",
            "dict_items([('pork', 25.3), ('beef', 33.8), ('chicken', 22.7)])\n",
            "True\n",
            "False\n"
          ]
        }
      ]
    }
  ]
}