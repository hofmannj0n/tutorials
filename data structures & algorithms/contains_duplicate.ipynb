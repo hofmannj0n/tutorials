{
  "nbformat": 4,
  "nbformat_minor": 0,
  "metadata": {
    "colab": {
      "provenance": []
    },
    "kernelspec": {
      "name": "python3",
      "display_name": "Python 3"
    },
    "language_info": {
      "name": "python"
    }
  },
  "cells": [
    {
      "cell_type": "code",
      "source": [
        "\n",
        "class Solution:\n",
        "    def contains_duplicate(self, nums=list):\n",
        "        hashset = set()\n",
        "        for n in nums:\n",
        "            if n in hashset:\n",
        "                return True\n",
        "            else:\n",
        "                hashset.add(n)\n",
        "        return False\n",
        "\n",
        "# Create an instance of the Solution class\n",
        "solution = Solution()\n",
        "\n",
        "# Call the contains_duplicate method on the instance\n",
        "answer = solution.contains_duplicate([1, 2, 3, 1])\n",
        "print(answer)  # This should print True since there is a repeated element\n"
      ],
      "metadata": {
        "colab": {
          "base_uri": "https://localhost:8080/"
        },
        "id": "r6t3fvz42nq4",
        "outputId": "478eefa3-5f40-4b04-ea32-727850e4d32c"
      },
      "execution_count": null,
      "outputs": [
        {
          "output_type": "stream",
          "name": "stdout",
          "text": [
            "True\n"
          ]
        }
      ]
    },
    {
      "cell_type": "markdown",
      "source": [
        "# contains duplicate problem, given an input list of n length, return true if there is a repeat element or false if all values are distinct\n",
        "\n"
      ],
      "metadata": {
        "id": "D_T8IUzL5krT"
      }
    },
    {
      "cell_type": "code",
      "source": [],
      "metadata": {
        "id": "HIy5_dtw3hUZ"
      },
      "execution_count": null,
      "outputs": []
    }
  ]
}