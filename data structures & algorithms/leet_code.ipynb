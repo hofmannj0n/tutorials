{
  "nbformat": 4,
  "nbformat_minor": 0,
  "metadata": {
    "colab": {
      "provenance": []
    },
    "kernelspec": {
      "name": "python3",
      "display_name": "Python 3"
    },
    "language_info": {
      "name": "python"
    }
  },
  "cells": [
    {
      "cell_type": "markdown",
      "source": [
        "# Given an array of integers, return indices of the two numbers such that they add up to a specific target.\n",
        "\n",
        " You may assume that each input would have exactly one solution, and you may not use the same element twice."
      ],
      "metadata": {
        "id": "1oWIb6RFZOTM"
      }
    },
    {
      "cell_type": "code",
      "execution_count": 20,
      "metadata": {
        "colab": {
          "base_uri": "https://localhost:8080/"
        },
        "id": "QjnQWRsAY9Jc",
        "outputId": "87c8365d-fc92-4bfc-dec5-bb5fc87a3f39"
      },
      "outputs": [
        {
          "output_type": "stream",
          "name": "stdout",
          "text": [
            "[2, 3]\n",
            "[3, 4]\n"
          ]
        }
      ],
      "source": [
        "# brute force\n",
        "\n",
        "class Solution_brute_force:\n",
        "  def two_sum(self, nums: list[int], target: int):\n",
        "    n = len(nums)\n",
        "    for i in range(n):\n",
        "        for j in range(i + 1, n):\n",
        "            if nums[i] + nums[j] == target:\n",
        "                return [i, j]\n",
        "\n",
        "\n",
        "\n",
        "\n",
        "# hashmap\n",
        "\n",
        "class Solution_hashmap:\n",
        "  def twoSum(self, nums: list[int], target: int):\n",
        "    prevMap = {} # val : index\n",
        "\n",
        "    for i, n in enumerate(nums):\n",
        "      diff = target - n\n",
        "      if diff in prevMap:\n",
        "        return [prevMap[diff], i]\n",
        "      prevMap[n] = i\n",
        "    return\n",
        "\n",
        "\n",
        "question = Solution_hashmap()\n",
        "print(question.twoSum(nums=[2, 3, 5, 7, 8], target = 12))\n",
        "\n",
        "question_again = Solution_brute_force()\n",
        "print(question_again.two_sum(nums=[1, 2, 5, 22, 7, 23], target = 29))\n"
      ]
    },
    {
      "cell_type": "markdown",
      "source": [
        "#best time to buy and sell stock\n",
        "\n",
        "Say you have an array for which ith element is the price of a given stock on day i\n",
        "\n",
        "If you were only permitted to complete at most one transaction (i. e buy on and sell one share of the stock) design an algorithim to find the maximum profit\n",
        "\n",
        "Note that you cannot sell a stock before you buy one\n",
        "\n",
        "#Example:\n",
        "\n",
        "Input: [7, 1, 5, 3, 6, 4]\n",
        "\n",
        "Output: 5\n",
        "\n",
        "Explanation: Buy on day 2 (price = 1) and sell on day 5 (price = 6) profit = 6-1 = 5.\n",
        "\n",
        "Not 7-1 =6 as selling price needs to be larger than buying price.  "
      ],
      "metadata": {
        "id": "fMAN6ZOZ8Ys9"
      }
    },
    {
      "cell_type": "code",
      "source": [
        "from typing import List\n",
        "\n",
        "class Solution:\n",
        "    def maxProfit(self, prices: List[int]) -> int:\n",
        "        l, r = 0, 1\n",
        "        maxP = 0\n",
        "\n",
        "        while r < len(prices):\n",
        "           if prices[l] < prices[r]:\n",
        "               profit = prices[r] - prices[l]\n",
        "               maxP = max(maxP, profit)\n",
        "           else:\n",
        "                l = r\n",
        "           r += 1\n",
        "\n",
        "        return maxP\n",
        "\n",
        "test = Solution()\n",
        "print(test.maxProfit([1, 4, 2, 11, 3]))\n",
        "\n",
        "\n",
        "\n",
        "\n"
      ],
      "metadata": {
        "colab": {
          "base_uri": "https://localhost:8080/"
        },
        "id": "DukLNrs-ZqBf",
        "outputId": "b7335bdc-0ef1-430d-c40a-4d56ddb22544"
      },
      "execution_count": 41,
      "outputs": [
        {
          "output_type": "stream",
          "name": "stdout",
          "text": [
            "10\n"
          ]
        }
      ]
    },
    {
      "cell_type": "code",
      "source": [],
      "metadata": {
        "id": "RwyX74S5_e7U"
      },
      "execution_count": null,
      "outputs": []
    }
  ]
}