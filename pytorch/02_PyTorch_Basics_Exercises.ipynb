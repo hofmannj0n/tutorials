{
  "cells": [
    {
      "cell_type": "markdown",
      "metadata": {
        "id": "YX8FfLYWkPwA"
      },
      "source": [
        "<img src=\"../Pierian-Data-Logo.PNG\">\n",
        "<br>\n",
        "<strong><center>Copyright 2019. Created by Jose Marcial Portilla.</center></strong>"
      ]
    },
    {
      "cell_type": "markdown",
      "metadata": {
        "collapsed": true,
        "id": "UJso3ygWkPwC"
      },
      "source": [
        "# PyTorch Basics Exercises\n",
        "For these exercises we'll create a tensor and perform several operations on it.\n",
        "\n",
        "<div class=\"alert alert-danger\" style=\"margin: 10px\"><strong>IMPORTANT NOTE!</strong> Make sure you don't run the cells directly above the example output shown, <br>otherwise you will end up writing over the example output!</div>"
      ]
    },
    {
      "cell_type": "markdown",
      "metadata": {
        "id": "t8nroLCrkPwC"
      },
      "source": [
        "### 1. Perform standard imports\n",
        "Import torch and NumPy"
      ]
    },
    {
      "cell_type": "code",
      "execution_count": 42,
      "metadata": {
        "id": "RX5YNJ6ZkPwD"
      },
      "outputs": [],
      "source": [
        "# CODE HERE\n",
        "\n",
        "import numpy as np\n",
        "import torch"
      ]
    },
    {
      "cell_type": "markdown",
      "metadata": {
        "id": "yTzt8RDrkPwD"
      },
      "source": [
        "### 2. Set the random seed for NumPy and PyTorch both to \"42\"\n",
        "This allows us to share the same \"random\" results."
      ]
    },
    {
      "cell_type": "code",
      "execution_count": 43,
      "metadata": {
        "id": "AsXaC6TwkPwD"
      },
      "outputs": [],
      "source": [
        "# CODE HERE\n",
        "\n",
        "np.random.seed(42)\n",
        "torch.manual_seed(42);"
      ]
    },
    {
      "cell_type": "markdown",
      "metadata": {
        "id": "oOhpLBPdkPwD"
      },
      "source": [
        "### 3. Create a NumPy array called \"arr\" that contains 6 random integers between 0 (inclusive) and 5 (exclusive)"
      ]
    },
    {
      "cell_type": "code",
      "execution_count": 44,
      "metadata": {
        "colab": {
          "base_uri": "https://localhost:8080/"
        },
        "id": "L63gsdOhkPwD",
        "outputId": "20a5d8f0-8279-4b81-caa4-443f9ce2f13f"
      },
      "outputs": [
        {
          "output_type": "execute_result",
          "data": {
            "text/plain": [
              "array([3, 4, 2, 4, 4, 1])"
            ]
          },
          "metadata": {},
          "execution_count": 44
        }
      ],
      "source": [
        "# CODE HERE\n",
        "\n",
        "arr = np.random.randint(0, 5, 6)\n",
        "\n",
        "arr"
      ]
    },
    {
      "cell_type": "code",
      "execution_count": 45,
      "metadata": {
        "id": "tZ_ExnGKkPwE"
      },
      "outputs": [],
      "source": [
        "# DON'T WRITE HERE"
      ]
    },
    {
      "cell_type": "markdown",
      "metadata": {
        "id": "qjyDQvRhkPwE"
      },
      "source": [
        "### 4. Create a tensor \"x\" from the array above"
      ]
    },
    {
      "cell_type": "code",
      "execution_count": 46,
      "metadata": {
        "colab": {
          "base_uri": "https://localhost:8080/"
        },
        "id": "OCcMFh9hkPwE",
        "outputId": "e85e627c-6435-4794-86af-99136ae39481"
      },
      "outputs": [
        {
          "output_type": "execute_result",
          "data": {
            "text/plain": [
              "tensor([3, 4, 2, 4, 4, 1])"
            ]
          },
          "metadata": {},
          "execution_count": 46
        }
      ],
      "source": [
        "# CODE HERE\n",
        "\n",
        "x = torch.from_numpy(arr)\n",
        "\n",
        "x"
      ]
    },
    {
      "cell_type": "code",
      "execution_count": 47,
      "metadata": {
        "id": "zNuiOf2KkPwE"
      },
      "outputs": [],
      "source": [
        "# DON'T WRITE HERE"
      ]
    },
    {
      "cell_type": "markdown",
      "metadata": {
        "id": "XrgHEwyXkPwF"
      },
      "source": [
        "### 5. Change the dtype of x from 'int32' to 'int64'\n",
        "Note: 'int64' is also called 'LongTensor'"
      ]
    },
    {
      "cell_type": "code",
      "execution_count": 48,
      "metadata": {
        "colab": {
          "base_uri": "https://localhost:8080/"
        },
        "id": "qK4X3tXfkPwF",
        "outputId": "a1560cba-09be-42a4-9d61-4a67314d5c6a"
      },
      "outputs": [
        {
          "output_type": "stream",
          "name": "stdout",
          "text": [
            "torch.LongTensor\n"
          ]
        }
      ],
      "source": [
        "# CODE HERE\n",
        "\n",
        "x = x.type(torch.int64)\n",
        "print(x.type())"
      ]
    },
    {
      "cell_type": "code",
      "execution_count": 49,
      "metadata": {
        "id": "gVYzSPnukPwF"
      },
      "outputs": [],
      "source": [
        "# DON'T WRITE HERE"
      ]
    },
    {
      "cell_type": "markdown",
      "metadata": {
        "id": "O_V5fDUpkPwF"
      },
      "source": [
        "### 6. Reshape x into a 3x2 tensor\n",
        "There are several ways to do this."
      ]
    },
    {
      "cell_type": "code",
      "execution_count": 50,
      "metadata": {
        "colab": {
          "base_uri": "https://localhost:8080/"
        },
        "id": "j4lbSvzfkPwF",
        "outputId": "61abe0f4-6f27-42e1-b9ed-042b3b8a9c87"
      },
      "outputs": [
        {
          "output_type": "execute_result",
          "data": {
            "text/plain": [
              "tensor([[3, 4],\n",
              "        [2, 4],\n",
              "        [4, 1]])"
            ]
          },
          "metadata": {},
          "execution_count": 50
        }
      ],
      "source": [
        "# CODE HERE\n",
        "\n",
        "x = x.reshape(3,2)\n",
        "x"
      ]
    },
    {
      "cell_type": "code",
      "execution_count": 51,
      "metadata": {
        "id": "xqFFmzZ8kPwF"
      },
      "outputs": [],
      "source": [
        "# DON'T WRITE HERE"
      ]
    },
    {
      "cell_type": "markdown",
      "metadata": {
        "id": "gkg581KakPwF"
      },
      "source": [
        "### 7. Return the right-hand column of tensor x"
      ]
    },
    {
      "cell_type": "code",
      "execution_count": 52,
      "metadata": {
        "colab": {
          "base_uri": "https://localhost:8080/"
        },
        "id": "SNBX4NrYkPwF",
        "outputId": "66e762f2-14bd-44b0-b502-e3440a136991"
      },
      "outputs": [
        {
          "output_type": "execute_result",
          "data": {
            "text/plain": [
              "tensor([[4],\n",
              "        [4],\n",
              "        [1]])"
            ]
          },
          "metadata": {},
          "execution_count": 52
        }
      ],
      "source": [
        "# CODE HERE\n",
        "\n",
        "x[:, 1:]"
      ]
    },
    {
      "cell_type": "code",
      "execution_count": 53,
      "metadata": {
        "id": "LsW_3DxpkPwF"
      },
      "outputs": [],
      "source": [
        "# DON'T WRITE HERE"
      ]
    },
    {
      "cell_type": "markdown",
      "metadata": {
        "id": "yfCfeRLdkPwF"
      },
      "source": [
        "### 8. Without changing x, return a tensor of square values of x\n",
        "There are several ways to do this."
      ]
    },
    {
      "cell_type": "code",
      "execution_count": 54,
      "metadata": {
        "colab": {
          "base_uri": "https://localhost:8080/"
        },
        "id": "6zWkesm1kPwG",
        "outputId": "8faf4cff-86ba-4378-e599-826db4c51f62"
      },
      "outputs": [
        {
          "output_type": "execute_result",
          "data": {
            "text/plain": [
              "tensor([[ 9, 16],\n",
              "        [ 4, 16],\n",
              "        [16,  1]])"
            ]
          },
          "metadata": {},
          "execution_count": 54
        }
      ],
      "source": [
        "# CODE HERE\n",
        "\n",
        "x ** 2"
      ]
    },
    {
      "cell_type": "code",
      "execution_count": 55,
      "metadata": {
        "id": "-lUB5n__kPwG"
      },
      "outputs": [],
      "source": [
        "# DON'T WRITE HERE"
      ]
    },
    {
      "cell_type": "markdown",
      "metadata": {
        "id": "Ysqn8Pe3kPwG"
      },
      "source": [
        "### 9. Create a tensor \"y\" with the same number of elements as x, that can be matrix-multiplied with x\n",
        "Use PyTorch directly (not NumPy) to create a tensor of random integers between 0 (inclusive) and 5 (exclusive).<br>\n",
        "Think about what shape it should have to permit matrix multiplication."
      ]
    },
    {
      "cell_type": "code",
      "execution_count": 56,
      "metadata": {
        "colab": {
          "base_uri": "https://localhost:8080/"
        },
        "id": "HpbvswLVkPwG",
        "outputId": "f7fb4542-7ca2-48bd-cf0d-d32a44226802"
      },
      "outputs": [
        {
          "output_type": "execute_result",
          "data": {
            "text/plain": [
              "tensor([[2, 2, 1],\n",
              "        [4, 1, 0]])"
            ]
          },
          "metadata": {},
          "execution_count": 56
        }
      ],
      "source": [
        "# CODE HERE\n",
        "\n",
        "y = torch.randint(0,5, (2,3))\n",
        "y"
      ]
    },
    {
      "cell_type": "code",
      "execution_count": null,
      "metadata": {
        "id": "9uUdICgBkPwG",
        "outputId": "d5ec4d27-abfe-4ec5-da87-c9090484c12d"
      },
      "outputs": [
        {
          "name": "stdout",
          "output_type": "stream",
          "text": [
            "tensor([[2, 2, 1],\n",
            "        [4, 1, 0]])\n"
          ]
        }
      ],
      "source": [
        "# DON'T WRITE HERE"
      ]
    },
    {
      "cell_type": "markdown",
      "metadata": {
        "id": "Qey-xA9BkPwG"
      },
      "source": [
        "### 10. Find the matrix product of x and y"
      ]
    },
    {
      "cell_type": "code",
      "execution_count": 58,
      "metadata": {
        "colab": {
          "base_uri": "https://localhost:8080/"
        },
        "id": "MiW-cw5zkPwG",
        "outputId": "11f76c8c-6ace-4e1c-8c9e-ac431661083f"
      },
      "outputs": [
        {
          "output_type": "execute_result",
          "data": {
            "text/plain": [
              "tensor([[22, 10,  3],\n",
              "        [20,  8,  2],\n",
              "        [12,  9,  4]])"
            ]
          },
          "metadata": {},
          "execution_count": 58
        }
      ],
      "source": [
        "# CODE HERE\n",
        "\n",
        "torch.mm(x, y)"
      ]
    },
    {
      "cell_type": "code",
      "execution_count": null,
      "metadata": {
        "id": "30jNbOHbkPwG",
        "outputId": "4050f975-a712-4225-ae6b-a9cfdab38667"
      },
      "outputs": [
        {
          "name": "stdout",
          "output_type": "stream",
          "text": [
            "tensor([[22, 10,  3],\n",
            "        [20,  8,  2],\n",
            "        [12,  9,  4]])\n"
          ]
        }
      ],
      "source": [
        "# DON'T WRITE HERE"
      ]
    },
    {
      "cell_type": "markdown",
      "metadata": {
        "id": "70iIHTyykPwG"
      },
      "source": [
        "## Great job!"
      ]
    }
  ],
  "metadata": {
    "kernelspec": {
      "display_name": "Python 3",
      "language": "python",
      "name": "python3"
    },
    "language_info": {
      "codemirror_mode": {
        "name": "ipython",
        "version": 3
      },
      "file_extension": ".py",
      "mimetype": "text/x-python",
      "name": "python",
      "nbconvert_exporter": "python",
      "pygments_lexer": "ipython3",
      "version": "3.8.10"
    },
    "colab": {
      "provenance": []
    }
  },
  "nbformat": 4,
  "nbformat_minor": 0
}