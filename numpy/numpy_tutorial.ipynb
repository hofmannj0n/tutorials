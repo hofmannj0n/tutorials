{
  "nbformat": 4,
  "nbformat_minor": 0,
  "metadata": {
    "colab": {
      "provenance": []
    },
    "kernelspec": {
      "name": "python3",
      "display_name": "Python 3"
    },
    "language_info": {
      "name": "python"
    }
  },
  "cells": [
    {
      "cell_type": "code",
      "execution_count": null,
      "metadata": {
        "id": "eBHmQmSCjtPq"
      },
      "outputs": [],
      "source": [
        "import numpy as np\n",
        "import matplotlib.pyplot as plt\n"
      ]
    },
    {
      "cell_type": "markdown",
      "source": [
        "#Creating Arrays"
      ],
      "metadata": {
        "id": "4LmTksNvlO-_"
      }
    },
    {
      "cell_type": "code",
      "source": [
        "a1 = np.array([1,2,3,4])\n",
        "a2 = np.zeros\n",
        "a3 = np.ones\n",
        "a4 = np.random.random(10)\n",
        "a5 = np.random.randn(10)\n",
        "a6 = np.linspace(0, 10, 100)\n",
        "a7 = np.arange(0, 10, 0.02)"
      ],
      "metadata": {
        "id": "5RkzNpztlNWh"
      },
      "execution_count": null,
      "outputs": []
    },
    {
      "cell_type": "markdown",
      "source": [
        "#Array operations\n",
        "\n",
        "numpy allows you to do element wise operations"
      ],
      "metadata": {
        "id": "6cyxxyrP8t-Y"
      }
    },
    {
      "cell_type": "code",
      "source": [
        "2 * a1"
      ],
      "metadata": {
        "colab": {
          "base_uri": "https://localhost:8080/"
        },
        "id": "LmVLPP0XlTNu",
        "outputId": "1b4d2461-59f6-44c4-8e8f-ffd67097d2d7"
      },
      "execution_count": null,
      "outputs": [
        {
          "output_type": "execute_result",
          "data": {
            "text/plain": [
              "array([2, 4, 6, 8])"
            ]
          },
          "metadata": {},
          "execution_count": 4
        }
      ]
    },
    {
      "cell_type": "code",
      "source": [
        "1 / a1"
      ],
      "metadata": {
        "colab": {
          "base_uri": "https://localhost:8080/"
        },
        "id": "zPlnw9Zc84xM",
        "outputId": "a5bd8d7e-d30c-4649-b5b6-72b5f175d5f4"
      },
      "execution_count": null,
      "outputs": [
        {
          "output_type": "execute_result",
          "data": {
            "text/plain": [
              "array([1.        , 0.5       , 0.33333333, 0.25      ])"
            ]
          },
          "metadata": {},
          "execution_count": 5
        }
      ]
    },
    {
      "cell_type": "code",
      "source": [
        "# boolean ioeratuibs\n",
        "a1 > 4"
      ],
      "metadata": {
        "colab": {
          "base_uri": "https://localhost:8080/"
        },
        "id": "txtDOEXt86F3",
        "outputId": "6da08e3d-eff8-4412-abac-56fe64553aa6"
      },
      "execution_count": null,
      "outputs": [
        {
          "output_type": "execute_result",
          "data": {
            "text/plain": [
              "array([False, False, False, False])"
            ]
          },
          "metadata": {},
          "execution_count": 6
        }
      ]
    },
    {
      "cell_type": "code",
      "source": [
        "1/a1 + 2"
      ],
      "metadata": {
        "colab": {
          "base_uri": "https://localhost:8080/"
        },
        "id": "pl8g6dpc8_vw",
        "outputId": "be08b398-c1c4-4a98-9d8d-5ce7839c2459"
      },
      "execution_count": null,
      "outputs": [
        {
          "output_type": "execute_result",
          "data": {
            "text/plain": [
              "array([3.        , 2.5       , 2.33333333, 2.25      ])"
            ]
          },
          "metadata": {},
          "execution_count": 7
        }
      ]
    },
    {
      "cell_type": "code",
      "source": [
        "x = np.linspace(0,1,100)\n",
        "plt.plot(x, x**2)"
      ],
      "metadata": {
        "colab": {
          "base_uri": "https://localhost:8080/",
          "height": 448
        },
        "id": "AD8u5ohQ9D6B",
        "outputId": "d2f3ad2d-e3e9-4374-a5cd-2a259549f643"
      },
      "execution_count": null,
      "outputs": [
        {
          "output_type": "execute_result",
          "data": {
            "text/plain": [
              "[<matplotlib.lines.Line2D at 0x7c08b431f070>]"
            ]
          },
          "metadata": {},
          "execution_count": 8
        },
        {
          "output_type": "display_data",
          "data": {
            "text/plain": [
              "<Figure size 640x480 with 1 Axes>"
            ],
            "image/png": "[encoded data removed]"
          },
          "metadata": {}
        }
      ]
    },
    {
      "cell_type": "code",
      "source": [
        "plt.hist(a4)"
      ],
      "metadata": {
        "colab": {
          "base_uri": "https://localhost:8080/",
          "height": 519
        },
        "id": "LA2OaE-19Jim",
        "outputId": "97cf4a25-4e55-465a-9262-7fec9e376072"
      },
      "execution_count": null,
      "outputs": [
        {
          "output_type": "execute_result",
          "data": {
            "text/plain": [
              "(array([3., 2., 2., 1., 0., 0., 0., 1., 0., 1.]),\n",
              " array([0.01995077, 0.07594328, 0.13193578, 0.18792829, 0.2439208 ,\n",
              "        0.2999133 , 0.35590581, 0.41189831, 0.46789082, 0.52388332,\n",
              "        0.57987583]),\n",
              " <BarContainer object of 10 artists>)"
            ]
          },
          "metadata": {},
          "execution_count": 9
        },
        {
          "output_type": "display_data",
          "data": {
            "text/plain": [
              "<Figure size 640x480 with 1 Axes>"
            ],
            "image/png": "[encoded data removed]"
          },
          "metadata": {}
        }
      ]
    },
    {
      "cell_type": "code",
      "source": [
        "def f(x):\n",
        "  return x**2 * np.sin(x) / np.exp(-x)\n",
        "\n",
        "x = np.linspace(0,10,100)\n",
        "y = f(x)\n",
        "\n",
        "plt.plot(x, y)"
      ],
      "metadata": {
        "colab": {
          "base_uri": "https://localhost:8080/",
          "height": 463
        },
        "id": "DZwZkTDq9NGY",
        "outputId": "e22f13ab-ff30-4edb-c379-582e6e73d052"
      },
      "execution_count": null,
      "outputs": [
        {
          "output_type": "execute_result",
          "data": {
            "text/plain": [
              "[<matplotlib.lines.Line2D at 0x7c08b40ac0d0>]"
            ]
          },
          "metadata": {},
          "execution_count": 10
        },
        {
          "output_type": "display_data",
          "data": {
            "text/plain": [
              "<Figure size 640x480 with 1 Axes>"
            ],
            "image/png": "[encoded data removed]"
          },
          "metadata": {}
        }
      ]
    },
    {
      "cell_type": "markdown",
      "source": [
        "#Array slicing and indexing"
      ],
      "metadata": {
        "id": "xSUzAJsJAO1h"
      }
    },
    {
      "cell_type": "code",
      "source": [
        "a1 = np.array([1,2,3,4,5])"
      ],
      "metadata": {
        "id": "3YxN31ev9Xi9"
      },
      "execution_count": null,
      "outputs": []
    },
    {
      "cell_type": "code",
      "source": [
        "a1[1:-1]"
      ],
      "metadata": {
        "colab": {
          "base_uri": "https://localhost:8080/"
        },
        "id": "SuefMi53AUZl",
        "outputId": "c94d87d0-24fc-4f7c-c976-8850d95a0ac9"
      },
      "execution_count": null,
      "outputs": [
        {
          "output_type": "execute_result",
          "data": {
            "text/plain": [
              "array([2, 3, 4])"
            ]
          },
          "metadata": {},
          "execution_count": 18
        }
      ]
    },
    {
      "cell_type": "code",
      "source": [
        "a1[2:]"
      ],
      "metadata": {
        "colab": {
          "base_uri": "https://localhost:8080/"
        },
        "id": "3DThlgnZC-Ra",
        "outputId": "291086cb-7f37-4826-969a-4a94a411451c"
      },
      "execution_count": null,
      "outputs": [
        {
          "output_type": "execute_result",
          "data": {
            "text/plain": [
              "array([3, 4, 5])"
            ]
          },
          "metadata": {},
          "execution_count": 19
        }
      ]
    },
    {
      "cell_type": "code",
      "source": [
        "a1[a1>3]"
      ],
      "metadata": {
        "colab": {
          "base_uri": "https://localhost:8080/"
        },
        "id": "RoEwM1PNDPSw",
        "outputId": "447a05ce-4290-4a5e-9b34-bb878db68404"
      },
      "execution_count": null,
      "outputs": [
        {
          "output_type": "execute_result",
          "data": {
            "text/plain": [
              "array([4, 5])"
            ]
          },
          "metadata": {},
          "execution_count": 20
        }
      ]
    },
    {
      "cell_type": "code",
      "source": [
        "names = np.array(['Jim', 'Luke', 'Josh', 'Pete'])"
      ],
      "metadata": {
        "id": "EVmieXoiDScW"
      },
      "execution_count": null,
      "outputs": []
    },
    {
      "cell_type": "code",
      "source": [
        "first_letter_j = np.vectorize(lambda s: s[0])(names)=='J'"
      ],
      "metadata": {
        "id": "9gh5LRNUDchK"
      },
      "execution_count": null,
      "outputs": []
    },
    {
      "cell_type": "code",
      "source": [
        "f = lambda s: s[0]\n",
        "f('animal')"
      ],
      "metadata": {
        "colab": {
          "base_uri": "https://localhost:8080/",
          "height": 35
        },
        "id": "_SU7bppvDgmQ",
        "outputId": "3adbd416-6b84-4120-f8f5-0db69bd44f0e"
      },
      "execution_count": null,
      "outputs": [
        {
          "output_type": "execute_result",
          "data": {
            "text/plain": [
              "'a'"
            ],
            "application/vnd.google.colaboratory.intrinsic+json": {
              "type": "string"
            }
          },
          "metadata": {},
          "execution_count": 23
        }
      ]
    },
    {
      "cell_type": "code",
      "source": [
        "def myfunc(a, b):\n",
        "  if a > b:\n",
        "    return a\n",
        "\n",
        "# returns an array, works as a for loop\n",
        "vfunc = np.vectorize(myfunc)\n",
        "vfunc(10, 9)"
      ],
      "metadata": {
        "colab": {
          "base_uri": "https://localhost:8080/"
        },
        "id": "uts44-qyEDCy",
        "outputId": "f6919e27-bb98-4586-c342-80f413b8d3cb"
      },
      "execution_count": null,
      "outputs": [
        {
          "output_type": "execute_result",
          "data": {
            "text/plain": [
              "array(10)"
            ]
          },
          "metadata": {},
          "execution_count": 30
        }
      ]
    },
    {
      "cell_type": "code",
      "source": [
        "names[first_letter_j]"
      ],
      "metadata": {
        "colab": {
          "base_uri": "https://localhost:8080/"
        },
        "id": "kbY9lDyCDl9O",
        "outputId": "f0d34a4d-9a81-4a59-90fc-4222960e0c42"
      },
      "execution_count": null,
      "outputs": [
        {
          "output_type": "execute_result",
          "data": {
            "text/plain": [
              "array(['Jim', 'Josh'], dtype='<U4')"
            ]
          },
          "metadata": {},
          "execution_count": 24
        }
      ]
    },
    {
      "cell_type": "code",
      "source": [
        "a1 % 4 ==0"
      ],
      "metadata": {
        "colab": {
          "base_uri": "https://localhost:8080/"
        },
        "id": "cK3Bp2udDoQZ",
        "outputId": "d014bfc6-ccb5-4058-b208-c20c81b42edd"
      },
      "execution_count": null,
      "outputs": [
        {
          "output_type": "execute_result",
          "data": {
            "text/plain": [
              "array([False, False, False,  True, False])"
            ]
          },
          "metadata": {},
          "execution_count": 25
        }
      ]
    },
    {
      "cell_type": "code",
      "source": [
        "a1[a1%4==0]"
      ],
      "metadata": {
        "colab": {
          "base_uri": "https://localhost:8080/"
        },
        "id": "o1AdJdcqDwtW",
        "outputId": "7e42f6c1-1a37-4a05-f6de-b0fb5cb2d85b"
      },
      "execution_count": null,
      "outputs": [
        {
          "output_type": "execute_result",
          "data": {
            "text/plain": [
              "array([4])"
            ]
          },
          "metadata": {},
          "execution_count": 26
        }
      ]
    },
    {
      "cell_type": "markdown",
      "source": [
        "#calculus / statistics"
      ],
      "metadata": {
        "id": "DvTQVnsbHNu6"
      }
    },
    {
      "cell_type": "code",
      "source": [
        "a1 = 2 * np.random.randn(10000) + 10\n",
        "\n",
        "# np.random.randn gnereates numbers with mean of 0 and std of 1\n",
        "# * 2 expands std to two\n",
        "#  + 10 shifts mean of numbers to 10\n",
        "\n",
        "a1"
      ],
      "metadata": {
        "colab": {
          "base_uri": "https://localhost:8080/"
        },
        "id": "02CVQ0MeDytf",
        "outputId": "43930554-1386-4867-caeb-b18349b3aedc"
      },
      "execution_count": null,
      "outputs": [
        {
          "output_type": "execute_result",
          "data": {
            "text/plain": [
              "array([10.90479715,  9.17818251, 12.72872825, ...,  9.89268845,\n",
              "        7.31176356, 10.79178768])"
            ]
          },
          "metadata": {},
          "execution_count": 33
        }
      ]
    },
    {
      "cell_type": "code",
      "source": [
        "np.mean(a1)\n",
        "np.std(a1)"
      ],
      "metadata": {
        "colab": {
          "base_uri": "https://localhost:8080/"
        },
        "id": "MCwK4FrcHTea",
        "outputId": "9ebd343e-11b1-4dc8-9b03-e3a620e6b79d"
      },
      "execution_count": null,
      "outputs": [
        {
          "output_type": "execute_result",
          "data": {
            "text/plain": [
              "1.9866056768056517"
            ]
          },
          "metadata": {},
          "execution_count": 35
        }
      ]
    },
    {
      "cell_type": "code",
      "source": [
        "np.percentile(a1, 80)\n",
        "\n",
        "# returns number such that 80% of numbers in array are less than that number"
      ],
      "metadata": {
        "colab": {
          "base_uri": "https://localhost:8080/"
        },
        "id": "GCg5gEwdHg23",
        "outputId": "ee5dcb0d-4a7a-409d-d8a3-2c7690242816"
      },
      "execution_count": null,
      "outputs": [
        {
          "output_type": "execute_result",
          "data": {
            "text/plain": [
              "11.678698090868613"
            ]
          },
          "metadata": {},
          "execution_count": 37
        }
      ]
    },
    {
      "cell_type": "markdown",
      "source": [
        "derivatives / integrals"
      ],
      "metadata": {
        "id": "a7nYGQekHt5m"
      }
    },
    {
      "cell_type": "code",
      "source": [
        "x = np.linspace(1, 10, 100)\n",
        "y = 1/x**2 + np.sin(x)\n",
        "\n",
        "dydx = np.gradient(y, x)\n",
        "y_int = np.cumsum(y) * (x[1] - x[0])"
      ],
      "metadata": {
        "id": "IXrVCrMSHqlp"
      },
      "execution_count": null,
      "outputs": []
    },
    {
      "cell_type": "code",
      "source": [
        "plt.plot(x, y)\n",
        "plt.plot(x, dydx)\n",
        "plt.plot(x, y_int)"
      ],
      "metadata": {
        "colab": {
          "base_uri": "https://localhost:8080/",
          "height": 448
        },
        "id": "iLOw3argJo1c",
        "outputId": "4bc1bd5f-5968-43f4-affb-6d7a00950449"
      },
      "execution_count": null,
      "outputs": [
        {
          "output_type": "execute_result",
          "data": {
            "text/plain": [
              "[<matplotlib.lines.Line2D at 0x7c087801a7a0>]"
            ]
          },
          "metadata": {},
          "execution_count": 42
        },
        {
          "output_type": "display_data",
          "data": {
            "text/plain": [
              "<Figure size 640x480 with 1 Axes>"
            ],
            "image/png": "[encoded data removed]"
          },
          "metadata": {}
        }
      ]
    },
    {
      "cell_type": "code",
      "source": [],
      "metadata": {
        "id": "wFmXepSjJ0sQ"
      },
      "execution_count": null,
      "outputs": []
    }
  ]
}